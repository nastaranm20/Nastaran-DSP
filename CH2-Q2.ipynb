{
 "cells": [
  {
   "cell_type": "markdown",
   "id": "6dafd10d-6821-48c9-add2-aa5151790b3c",
   "metadata": {},
   "source": [
    "# فصل دوم-آزمون شماره 2"
   ]
  },
  {
   "cell_type": "markdown",
   "id": "6f853ac1-5b39-4ee9-888f-34c08fffbb0f",
   "metadata": {},
   "source": [
    "### سوال اول:\n",
    "انرژی کل سیگنالهای زیر را بدست آورید."
   ]
  },
  {
   "cell_type": "markdown",
   "id": "ac1e442b-8315-469b-88e6-8e8a635781f9",
   "metadata": {},
   "source": [
    "لف) $ x(t)=3e^{2jt} $"
   ]
  },
  {
   "cell_type": "markdown",
   "id": "3567f65d-311f-4120-ba30-8d61dada31d5",
   "metadata": {},
   "source": [
    "ب) $ x(t)= \\begin{cases} e^{-3t} & \\text t\\geq 0 \\\\ e^{2t} & \\text t<0 \\end{cases} $"
   ]
  },
  {
   "cell_type": "markdown",
   "id": "6ff4f924-21c6-4823-a147-66b14636a20d",
   "metadata": {},
   "source": [
    "#### پاسخ (الف):\n",
    "$$ E_\\infty=\\int_{-\\infty}^{\\infty}\\;9\\;dt = +\\infty $$"
   ]
  },
  {
   "cell_type": "markdown",
   "id": "e816b148-f146-4a0b-8b6c-b9019877e119",
   "metadata": {},
   "source": [
    "#### پاسخ (ب):"
   ]
  },
  {
   "cell_type": "markdown",
   "id": "1d0ff428-64dd-48ef-93b0-450f4f01c619",
   "metadata": {},
   "source": [
    "$$ E_\\infty=(\\int_{-\\infty}^{0}\\;e^{4t} + \\int_{0}^{\\infty}\\;e^{-6t})dt = \\frac{10}{24} $$"
   ]
  },
  {
   "cell_type": "markdown",
   "id": "c747b56c-7bb2-4257-bd84-93e778bf745e",
   "metadata": {},
   "source": [
    "### سوال دوم:\n",
    "توان متوسط سیگنالهای زیر را بدست آورید."
   ]
  },
  {
   "cell_type": "markdown",
   "id": "a09de8e0-9c75-46bc-8190-d958411f2a8d",
   "metadata": {},
   "source": [
    "الف) $ x(t) = t $"
   ]
  },
  {
   "cell_type": "markdown",
   "id": "9a6920a2-1298-4490-b88f-fe2617318c4b",
   "metadata": {},
   "source": [
    "ب) $ x(t) = e^{-3t} $"
   ]
  },
  {
   "cell_type": "markdown",
   "id": "b204a032-fb15-4731-b6b4-a3a640e35fe0",
   "metadata": {},
   "source": [
    "ج) $ x(t) = \\begin{cases} e^{-3t} & \\text t\\geq0 \\\\ 0 & \\text {else} \\end{cases} $"
   ]
  },
  {
   "cell_type": "markdown",
   "id": "975758c5-0e5a-481f-9e9f-3f2d8c811e07",
   "metadata": {},
   "source": [
    "#### پاسخ (الف):"
   ]
  },
  {
   "cell_type": "markdown",
   "id": "eb481f39-ab46-4b6f-a4d1-6869944813d3",
   "metadata": {},
   "source": [
    "$ P_\\infty =\\lim\\limits_{T \\to \\infty} \\frac{1}{2T}\\int_{-T}^{T}T^2\\;dt = \\lim\\limits_{T\\to\\infty}\\frac{1}{2T}.\\frac{2T^3}{3} = \\infty $"
   ]
  },
  {
   "cell_type": "markdown",
   "id": "0b1ac3d5-5e4d-4217-a1a6-9d90837312ed",
   "metadata": {},
   "source": [
    "#### پاسخ (ب):"
   ]
  },
  {
   "cell_type": "markdown",
   "id": "99b3d45e-0b10-4005-8763-dbff9fe3cfb4",
   "metadata": {},
   "source": [
    "$ P_\\infty=\\lim\\limits_{T\\to\\infty}\\frac{1}{2T}\\int_{-T}^{T}e^{-6t}\\;dt =\\lim\\limits_{T\\to\\infty}\\frac{e^{6T}}{12T} = \\infty $"
   ]
  },
  {
   "cell_type": "markdown",
   "id": "18ac886a-5ce5-45e1-a08d-69f6347396f2",
   "metadata": {},
   "source": [
    "#### پاسخ (ج):"
   ]
  },
  {
   "cell_type": "markdown",
   "id": "92b926f8-6ee7-4ac4-86de-fce8b564901a",
   "metadata": {},
   "source": [
    "$ P_\\infty=\\lim\\limits_{T\\to\\infty}\\frac{1}{2T}\\int_{0}^{T}e^{-6T}\\;dt=\\lim\\limits_{T\\to\\infty}\\frac{1}{12T}(1-e^{-6T})=0 $"
   ]
  },
  {
   "cell_type": "markdown",
   "id": "283e86a4-5235-4db9-8e1c-ea4037b66c7b",
   "metadata": {},
   "source": [
    "### سوال سوم:\n",
    "خطی بودن سیستمهای زیر را بررسی کنید."
   ]
  },
  {
   "cell_type": "markdown",
   "id": "c073cfb1-0c0b-4b88-ac57-4ef0360d10ec",
   "metadata": {},
   "source": [
    "الف) $ y[n]=n^2x[n] $"
   ]
  },
  {
   "cell_type": "markdown",
   "id": "b1b6802c-4fc3-4c19-a486-bb4d013f604f",
   "metadata": {},
   "source": [
    "ب) $ y(t)=x^2(t) $"
   ]
  },
  {
   "cell_type": "markdown",
   "id": "d352c2f7-e2f0-4ac1-8900-d4ea8431bac0",
   "metadata": {},
   "source": [
    "ج) $ y(t)=Re(x(t)) $"
   ]
  },
  {
   "cell_type": "markdown",
   "id": "83a9dbaf-6145-4cbd-ac97-5167993af783",
   "metadata": {},
   "source": [
    "#### پاسخ (الف):"
   ]
  },
  {
   "cell_type": "markdown",
   "id": "cdb4f3ad-1ac8-4310-9e88-bed4032ae0b2",
   "metadata": {},
   "source": [
    "$ x_1[n]\\;\\rightarrow\\;y_1=n^2x_1[n] $"
   ]
  },
  {
   "cell_type": "markdown",
   "id": "9722a2bd-ad10-4ec9-b088-2b61f349128e",
   "metadata": {},
   "source": [
    "$ x_2[n]\\;\\rightarrow\\;y_1=n^2x_2[n] $"
   ]
  },
  {
   "cell_type": "markdown",
   "id": "fa6a9dca-ee5f-4b96-a75d-78188c6210ad",
   "metadata": {},
   "source": [
    "$ x_3[n]=ax_1[n]+bx_2[n]\\;\\rightarrow\\;y_3=n^2x_3[n] $"
   ]
  },
  {
   "cell_type": "markdown",
   "id": "d3266b2c-a7ee-4514-9596-3623f86be9b4",
   "metadata": {},
   "source": [
    "در نتیجه این سیستم خطی است."
   ]
  },
  {
   "cell_type": "markdown",
   "id": "e71eda1c-6860-4015-9905-ac8c90be31a7",
   "metadata": {},
   "source": [
    "#### پاسخ (ب):"
   ]
  },
  {
   "cell_type": "markdown",
   "id": "17b95364-3371-4c92-b960-c370ea67c4f3",
   "metadata": {},
   "source": [
    "$ x_1(t)=1\\;\\rightarrow\\;y_1(t)=1 $"
   ]
  },
  {
   "cell_type": "markdown",
   "id": "82f55e0a-568c-4fb8-91ed-fa6079fd3721",
   "metadata": {},
   "source": [
    "$ x_2(t)=3x_1(t)\\;\\rightarrow\\;y_2(t)=9 $"
   ]
  },
  {
   "cell_type": "markdown",
   "id": "24ab66b8-01a1-44f1-9334-b32172fbefa0",
   "metadata": {},
   "source": [
    "در نتیجه همگن نیست."
   ]
  },
  {
   "cell_type": "markdown",
   "id": "86716a5a-8d4e-4df0-a8e1-0c0c6f9a8425",
   "metadata": {},
   "source": [
    "#### پاسخ (ج):"
   ]
  },
  {
   "cell_type": "markdown",
   "id": "1aedec32-cf06-4f16-962f-17d0f7015440",
   "metadata": {},
   "source": [
    "$ x_1(t) = 1\\;\\rightarrow\\;y_1(t) = 1 $"
   ]
  },
  {
   "cell_type": "markdown",
   "id": "a4e0e5db-8b14-45e4-91ba-70cdad34a195",
   "metadata": {},
   "source": [
    "$ x_2(t) = j.x(t)\\;\\rightarrow\\;y_2(t) = 0 $"
   ]
  },
  {
   "cell_type": "markdown",
   "id": "7db72939-d57a-4084-8bc5-405fa6d66335",
   "metadata": {},
   "source": [
    "در نتیجه همگن نیست."
   ]
  },
  {
   "cell_type": "markdown",
   "id": "d3cf1433-247c-444a-a44e-9a8ee985a0e8",
   "metadata": {},
   "source": [
    "### سوال چهارم:\n",
    "سیگنال زیر را رسم کنید."
   ]
  },
  {
   "cell_type": "markdown",
   "id": "c0bbb592-e25e-43d0-afd5-dee8727566f8",
   "metadata": {},
   "source": [
    "$ x(t) = u(t-3).u(t+3) $"
   ]
  },
  {
   "cell_type": "code",
   "execution_count": 1,
   "id": "eff8f009-f717-4646-a420-04d609e029a2",
   "metadata": {},
   "outputs": [
    {
     "data": {
      "image/png": "[encoded data removed]",
      "text/plain": [
       "<Figure size 640x480 with 1 Axes>"
      ]
     },
     "metadata": {},
     "output_type": "display_data"
    }
   ],
   "source": [
    "import numpy as np\n",
    "import matplotlib.pyplot as plt\n",
    "\n",
    "# تعریف تابع پله واحد\n",
    "def u(t):\n",
    "    return np.where(t >= 0, 1, 0)\n",
    "\n",
    "# زمان نمونه‌برداری\n",
    "t = np.linspace(-4, 4, 10000)\n",
    "\n",
    "# تعریف سیگنال x(t) = u(t + 3) - u(t - 3) برای پالس از -3 تا 3\n",
    "x_t = u(t + 3) - u(t - 3)\n",
    "\n",
    "# رسم سیگنال x(t) به صورت گسسته\n",
    "plt.step(t, x_t, where='post', label=\"x(t) = u(t + 3) - u(t - 3)\")\n",
    "plt.title(\"Plot of x(t) = u(t + 3) - u(t - 3)\")\n",
    "plt.xlabel(\"t\")\n",
    "plt.ylabel(\"x(t)\")\n",
    "plt.axhline(0, color='black',linewidth=1)\n",
    "plt.axvline(0, color='black',linewidth=1)\n",
    "plt.grid(True)\n",
    "plt.legend()\n",
    "plt.show()\n"
   ]
  }
 ],
 "metadata": {
  "kernelspec": {
   "display_name": "Python [conda env:base] *",
   "language": "python",
   "name": "conda-base-py"
  },
  "language_info": {
   "codemirror_mode": {
    "name": "ipython",
    "version": 3
   },
   "file_extension": ".py",
   "mimetype": "text/x-python",
   "name": "python",
   "nbconvert_exporter": "python",
   "pygments_lexer": "ipython3",
   "version": "3.12.7"
  }
 },
 "nbformat": 4,
 "nbformat_minor": 5
}
