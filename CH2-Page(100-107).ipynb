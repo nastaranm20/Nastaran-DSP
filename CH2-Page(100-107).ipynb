{
 "cells": [
  {
   "cell_type": "markdown",
   "id": "fbcac493-350d-4ef9-9c97-172097942541",
   "metadata": {},
   "source": [
    "# فصل دوم-صفحه‌ی 100"
   ]
  },
  {
   "cell_type": "markdown",
   "id": "b4988fa6-2fe3-481e-9061-6fa63f978177",
   "metadata": {},
   "source": [
    "## خاصیت شرکت پذیری\n",
    "یک خاصیت مهم و مفید دیگر کانولوشن خاصیت شرکت پذیری است. یعنی در حالت گسسته زمان:"
   ]
  },
  {
   "cell_type": "markdown",
   "id": "1dab2e2e-4fe9-4052-82c8-a423e7eec284",
   "metadata": {},
   "source": [
    "$$ x[n] * (h_1[n] * h_2[n]) = (x[n] * h_1[n]) * h_2[n] $$   (58-2)"
   ]
  },
  {
   "cell_type": "markdown",
   "id": "f52c8c07-c42f-4bc0-b3bc-1690a0d24681",
   "metadata": {},
   "source": [
    "و در حالت پیوسته زمان:"
   ]
  },
  {
   "cell_type": "markdown",
   "id": "5132d953-e459-4425-94e1-ede75147cb8c",
   "metadata": {},
   "source": [
    "$$ x(t) * [h_1(t) * h_2(t)] = [x(t) * h_1(t)] * h_2(t) $$   (59-2)"
   ]
  },
  {
   "cell_type": "markdown",
   "id": "9613ddcf-4565-4709-9282-72408f0b909a",
   "metadata": {},
   "source": [
    "با کار برروی جمعها و انتگرالهای مربوط به این عبارتها میتوان آنها را به سادگی ثابت کرد. مثالهای تاییدکننده این عبارتها در مسئله 2-43 داده شده است.\n",
    "بخاطر وجود خاصیت شرکت پذیری، عبارتهای زیر خالی از ابهام هستند:"
   ]
  },
  {
   "cell_type": "markdown",
   "id": "3644967e-02b5-4fe7-947b-a0a9bda4b0db",
   "metadata": {},
   "source": [
    "$$ y[n] = x[n] * h_1[n] * h_2[n] $$   (60-2)\n",
    "$$ y(t) = x(t) * h_1(t) * h_2(t) $$   (61-2)"
   ]
  },
  {
   "cell_type": "markdown",
   "id": "c355edac-76c3-4e2b-afc8-573cf2026d6b",
   "metadata": {},
   "source": [
    "به عبارت دیگر طبق معادلات (2-58) و (2-59) فرقی نمیکند که کانولوشن این سیگنالها به چه ترتیبی انجام شود.\n",
    "شکلهای 2-25 (الف) و (ب) تعبیری از خاصیت شرکت پذیری را برای سیستمهای گسسته در زمان نشان میدهند. در شکل 2-25 (الف) داریم:"
   ]
  },
  {
   "cell_type": "markdown",
   "id": "9b9c5aec-137d-4219-95f7-0543d29e493d",
   "metadata": {},
   "source": [
    "$$ y[n] = w[n] * h_2[n] $$\n",
    "    $$ = (x[n] * h_1[n]) * h_2[n] $$"
   ]
  },
  {
   "cell_type": "markdown",
   "id": "4eabae5d-422c-4f75-a1fe-79934ca65ebd",
   "metadata": {},
   "source": [
    "### شکل 2-25 (الف):"
   ]
  },
  {
   "cell_type": "code",
   "execution_count": 1,
   "id": "f9d3d734-cc5b-491f-ab98-33f4c680cffd",
   "metadata": {},
   "outputs": [
    {
     "data": {
      "image/png": "[encoded data removed]",
      "text/plain": [
       "<Figure size 600x200 with 1 Axes>"
      ]
     },
     "metadata": {},
     "output_type": "display_data"
    }
   ],
   "source": [
    "import matplotlib.pyplot as plt\n",
    "import matplotlib.patches as patches\n",
    "\n",
    "def draw_block_diagram():\n",
    "    fig, ax = plt.subplots(figsize=(6, 2))\n",
    "    ax.set_xlim(-1, 5)\n",
    "    ax.set_ylim(-1, 2)\n",
    "    ax.axis('off')\n",
    "    \n",
    "    # رسم بلوک‌ها\n",
    "    blocks = [(0.5, 0.5, 'h₁[n]'), (2.5, 0.5, 'h₂[n]')]\n",
    "    for x, y, label in blocks:\n",
    "        rect = patches.Rectangle((x, y), 1, 1, edgecolor='black', facecolor='white')\n",
    "        ax.add_patch(rect)\n",
    "        ax.text(x + 0.5, y + 0.5, label, fontsize=12, ha='center', va='center')\n",
    "    \n",
    "    # رسم فلش‌ها\n",
    "    arrows = [(-0.5, 1, 0.5, 1, 'x[n]'), (1.5, 1, 2.5, 1, 'w[n]'), (3.5, 1, 4.5, 1, 'y[n]')]\n",
    "    for x1, y1, x2, y2, label in arrows:\n",
    "        ax.annotate(\"\", xy=(x2, y2), xytext=(x1, y1), arrowprops=dict(arrowstyle='->', lw=1.5))\n",
    "        ax.text((x1 + x2) / 2, y1 + 0.1, label, fontsize=12, ha='center', va='bottom')\n",
    "    \n",
    "    plt.show()\n",
    "\n",
    "draw_block_diagram()\n"
   ]
  },
  {
   "cell_type": "markdown",
   "id": "d54e16ac-104a-48d9-9cf0-88a2551fc3a9",
   "metadata": {},
   "source": [
    "در شکل 2-25 (ب) داریم:"
   ]
  },
  {
   "cell_type": "markdown",
   "id": "356df049-704e-4c10-84ca-f27b37838601",
   "metadata": {},
   "source": [
    "$$ y[n] = x[n] * h[n] $$\n",
    "    $$ = x[n] * (h_1[n] * h_2[n]) $$"
   ]
  },
  {
   "cell_type": "markdown",
   "id": "c2fb1509-b038-42bd-b5c4-e1f12f360031",
   "metadata": {},
   "source": [
    "### شکل 2-25 (ب):"
   ]
  },
  {
   "cell_type": "code",
   "execution_count": 3,
   "id": "bd1d007a-dff2-4917-bcd3-4d344d74b3a3",
   "metadata": {},
   "outputs": [
    {
     "data": {
      "image/png": "[encoded data removed]",
      "text/plain": [
       "<Figure size 600x200 with 1 Axes>"
      ]
     },
     "metadata": {},
     "output_type": "display_data"
    }
   ],
   "source": [
    "import matplotlib.pyplot as plt\n",
    "import matplotlib.patches as patches\n",
    "\n",
    "def draw_block_diagram():\n",
    "    fig, ax = plt.subplots(figsize=(6, 2), dpi=100)\n",
    "    ax.set_xlim(-1, 5)\n",
    "    ax.set_ylim(-1, 2)\n",
    "    ax.set_xticks([])\n",
    "    ax.set_yticks([])\n",
    "    ax.spines['top'].set_visible(False)\n",
    "    ax.spines['right'].set_visible(False)\n",
    "    ax.spines['left'].set_visible(False)\n",
    "    ax.spines['bottom'].set_visible(False)\n",
    "    \n",
    "    # رسم بلوک ترکیبی\n",
    "    rect = patches.Rectangle((0.5, 0.5), 3, 1, edgecolor='black', facecolor='white', linewidth=1.5)\n",
    "    ax.add_patch(rect)\n",
    "    ax.text(2, 1, '$h[n] = h_1[n] * h_2[n]$', fontsize=12, ha='center', va='center')\n",
    "    \n",
    "    # رسم فلش‌ها\n",
    "    arrows = [(-0.5, 1, 0.5, 1, 'x[n]'), (3.5, 1, 4.5, 1, 'y[n]')]\n",
    "    for x1, y1, x2, y2, label in arrows:\n",
    "        ax.annotate(\"\", xy=(x2, y2), xytext=(x1, y1), arrowprops=dict(arrowstyle='->', linewidth=1.5))\n",
    "        ax.text((x1 + x2) / 2, y1 + 0.1, label, fontsize=12, ha='center', va='bottom')\n",
    "    \n",
    "    plt.show()  # نمایش مستقیم دیاگرام بدون نیاز به ذخیره فایل\n",
    "\n",
    "draw_block_diagram()"
   ]
  },
  {
   "cell_type": "markdown",
   "id": "76c35f92-692c-475b-a534-cef5db3fe828",
   "metadata": {},
   "source": [
    "اتصال سری دو سیستم شکل 2-25 (الف)، ظبق خاصیت شرکت پذیری، معادل سیستم شکل 2-25(ب) است. این امر را میتوان به اتصال سری هر تعداد سیستم خطی تغییرناپذیر با زمان تعمیم داد و برای حالت پیوسته در زمان نیز تعبیر و نتیجه‌ی مشابهی برقرار است.\n",
    "با استفاده از خاصیت شرکت پذیری و جابه‌جایی کانولوشن خاصیت مهم دیگری برای سیستمهای خطی تغییرناپذیر با زمان بدست میاوریم. شکلهای 2-25 (الف) و (ب) نشان میدهند که پاسخ ضربه دو سیستم سری، با کانولوشن پاسخ ضربه آن دو سیستم برابر است. چون کانولوشن خاصیت جابه‌جایی دارد، کانولوشن $ h_1[n] $ و $ h_2[n] $ را میتوان با هر ترتیبی انجام داد. پس شکلهای 2-25 (ب) و (ج) هم ارزند و طبق خاصیت شرکت پذیری این سیستمها با سیستم شکل 2-25 (د) نیز، که همانند شکل 2-25 (الف) ترکیب سری دو سیستم است، هم ارزند. پس پاسخ ظربه ترکیب متوالی دو سیستم خطی تغییرناپذیر با زمان به ترتیب سیستمها بستگی ندارد. در واقع این امر برای هر تعداد سیستم متوالی شده‌ای درست است: تا وقتی به پاسخ ضربه سیستم کل علاقمندیم ترتیب اتصال سیستمها مهم نیست. این خاصیت برای حالت پیوسته در زمان نیز برقرار است.\n",
    "تاکید بر این نکته مهم است که رفتار سیستمهای خطی تغییرناپذیر با زمان سری شده، و خصوصا استقلال رفتار سیستم کل، از ترتیب سیستمهای سری منحصر به این سیستمهاست. برعکس در حالت کلی نمیتوان جای سیستمهای غیرخطی سری را عوض کرد؛ زیرا چنین کاری باعث تغییر پاسخ کل سیستم میشود."
   ]
  },
  {
   "cell_type": "markdown",
   "id": "7a3ac4e2-7a81-45b7-886b-b18310c4feb0",
   "metadata": {},
   "source": [
    "### شکل 2-25 (ج):"
   ]
  },
  {
   "cell_type": "code",
   "execution_count": 5,
   "id": "08b82eaf-5b44-4a6b-abf9-14c3c94b05f5",
   "metadata": {},
   "outputs": [
    {
     "data": {
      "image/png": "[encoded data removed]",
      "text/plain": [
       "<Figure size 600x200 with 1 Axes>"
      ]
     },
     "metadata": {},
     "output_type": "display_data"
    }
   ],
   "source": [
    "import matplotlib.pyplot as plt\n",
    "import matplotlib.patches as patches\n",
    "\n",
    "def draw_block_diagram():\n",
    "    fig, ax = plt.subplots(figsize=(6, 2), dpi=100)\n",
    "    ax.set_xlim(-1, 5)\n",
    "    ax.set_ylim(-1, 2)\n",
    "    ax.set_xticks([])\n",
    "    ax.set_yticks([])\n",
    "    ax.spines['top'].set_visible(False)\n",
    "    ax.spines['right'].set_visible(False)\n",
    "    ax.spines['left'].set_visible(False)\n",
    "    ax.spines['bottom'].set_visible(False)\n",
    "    \n",
    "    # رسم بلوک ترکیبی\n",
    "    rect = patches.Rectangle((0.5, 0.5), 3, 1, edgecolor='black', facecolor='white', linewidth=1.5)\n",
    "    ax.add_patch(rect)\n",
    "    ax.text(2, 1, '$h[n] = h_2[n] * h_1[n]$', fontsize=12, ha='center', va='center')\n",
    "    \n",
    "    # رسم فلش‌ها\n",
    "    arrows = [(-0.5, 1, 0.5, 1, 'x[n]'), (3.5, 1, 4.5, 1, 'y[n]')]\n",
    "    for x1, y1, x2, y2, label in arrows:\n",
    "        ax.annotate(\"\", xy=(x2, y2), xytext=(x1, y1), arrowprops=dict(arrowstyle='->', linewidth=1.5))\n",
    "        ax.text((x1 + x2) / 2, y1 + 0.1, label, fontsize=12, ha='center', va='bottom')\n",
    "    \n",
    "    plt.show()  # نمایش مستقیم دیاگرام بدون نیاز به ذخیره فایل\n",
    "\n",
    "draw_block_diagram()\n"
   ]
  },
  {
   "cell_type": "markdown",
   "id": "b9019391-afb1-49f8-8486-3a31059a1927",
   "metadata": {},
   "source": [
    "### شکل 2-25 (د):"
   ]
  },
  {
   "cell_type": "code",
   "execution_count": 7,
   "id": "db495946-632e-4873-ad96-0c2fb5e11bad",
   "metadata": {},
   "outputs": [
    {
     "data": {
      "image/png": "[encoded data removed]",
      "text/plain": [
       "<Figure size 600x200 with 1 Axes>"
      ]
     },
     "metadata": {},
     "output_type": "display_data"
    }
   ],
   "source": [
    "import matplotlib.pyplot as plt\n",
    "import matplotlib.patches as patches\n",
    "\n",
    "def draw_block_diagram():\n",
    "    fig, ax = plt.subplots(figsize=(6, 2), dpi=100)\n",
    "    ax.set_xlim(-1, 6)\n",
    "    ax.set_ylim(-1, 2)\n",
    "    ax.set_xticks([])\n",
    "    ax.set_yticks([])\n",
    "    ax.spines['top'].set_visible(False)\n",
    "    ax.spines['right'].set_visible(False)\n",
    "    ax.spines['left'].set_visible(False)\n",
    "    ax.spines['bottom'].set_visible(False)\n",
    "\n",
    "    # رسم بلوک h2[n]\n",
    "    rect1 = patches.Rectangle((1, 0.5), 1.5, 1, edgecolor='black', facecolor='white', linewidth=1.5)\n",
    "    ax.add_patch(rect1)\n",
    "    ax.text(1.75, 1, '$h_2[n]$', fontsize=12, ha='center', va='center')\n",
    "\n",
    "    # رسم بلوک h1[n]\n",
    "    rect2 = patches.Rectangle((3, 0.5), 1.5, 1, edgecolor='black', facecolor='white', linewidth=1.5)\n",
    "    ax.add_patch(rect2)\n",
    "    ax.text(3.75, 1, '$h_1[n]$', fontsize=12, ha='center', va='center')\n",
    "\n",
    "    # رسم فلش‌ها\n",
    "    arrows = [(-0.5, 1, 1, 1, '$x[n]$'), \n",
    "              (2.5, 1, 3, 1, ''),  \n",
    "              (4.5, 1, 5.5, 1, '$y[n]$')]\n",
    "\n",
    "    for x1, y1, x2, y2, label in arrows:\n",
    "        ax.annotate(\"\", xy=(x2, y2), xytext=(x1, y1), arrowprops=dict(arrowstyle='->', linewidth=1.5))\n",
    "        if label:\n",
    "            ax.text((x1 + x2) / 2, y1 + 0.1, label, fontsize=12, ha='center', va='bottom')\n",
    "\n",
    "    plt.show()\n",
    "\n",
    "draw_block_diagram()\n"
   ]
  },
  {
   "cell_type": "markdown",
   "id": "7690db3f-b881-4460-b0ae-1c0428fd7b71",
   "metadata": {},
   "source": [
    "برای مثال دو سیستم بی حافظه در نظر بگیرید که یکی ورودی را در 2 ضرب میکند و دیگری ورودی را مربعی میکند. اگر ابتدا ضرب و سپس مربع کنیم داریم:"
   ]
  },
  {
   "cell_type": "markdown",
   "id": "3f46e639-6562-4663-b360-078b8c645210",
   "metadata": {},
   "source": [
    "$$ y[n] = 4x[n]^2 $$"
   ]
  },
  {
   "cell_type": "markdown",
   "id": "e8d0d783-4fec-4054-97ff-e605ef292269",
   "metadata": {},
   "source": [
    "اگر عمل ضرب بعد از به توان رساندن صورت گیرد، داریم:"
   ]
  },
  {
   "cell_type": "markdown",
   "id": "6b053ade-6cc1-4d0c-954a-7ae410bdb9c1",
   "metadata": {},
   "source": [
    "$$ y[n] = 2x[n]^2 $$"
   ]
  },
  {
   "cell_type": "markdown",
   "id": "bbac52a4-7b40-429d-84e0-cffca7c0e65b",
   "metadata": {},
   "source": [
    "پس امکان جابه‌جا کردن ترتیب سیستمهای سری، منحصر به سیستمهای خطی تغییرناپذیر با زمان است. در واقع چنان که در مسئله 2-51 نشان خواهیم داد، برای برقراری خاصیت فوق در حالت کلی، هم خطی بودن لازم است و هم تغییرناپذیری با زمان"
   ]
  },
  {
   "cell_type": "markdown",
   "id": "67228bb6-2bd9-4fc1-9316-b1fe971059bc",
   "metadata": {},
   "source": [
    "# فصل دوم-صفحه‌ی 101"
   ]
  },
  {
   "cell_type": "markdown",
   "id": "45f74903-2489-4048-b85d-da17706bfd92",
   "metadata": {},
   "source": [
    "## سیستم‌های خطی تغییرناپذیر با زمان حافظه‌دار و بدون حافظه"
   ]
  },
  {
   "cell_type": "markdown",
   "id": "e0dfa2c4-83af-4e49-95bf-fae32e1114a1",
   "metadata": {},
   "source": [
    "چنانچه در بخش 1-6-1 گفتیم، سیستمی بدون حافظه است که خروجی اش در هر زمان تنها به مقدار\n",
    "ورودی در آن زمان بستگی داشته باشد. با توجه به معادله 2-39 تنها راه برقراری این خاصیت برای یک\n",
    "سیستم خطی تغییرناپذیر با زمان گسسته در زمان این است که به ازای $ n \\neq 0 $ داشته باشیم $ h[n] = 0 $. در اینصورت پاسخ ضربه به شکل زیر است:"
   ]
  },
  {
   "cell_type": "markdown",
   "id": "dde64c87-d85e-4578-b9eb-c68adc265bc5",
   "metadata": {},
   "source": [
    "$$ h[n] = K \\delta[n] $$   (62-2)"
   ]
  },
  {
   "cell_type": "markdown",
   "id": "bb676c43-fb52-4c3a-96de-9a50f8c9f762",
   "metadata": {},
   "source": [
    "که $ K = h[0] $ مقداری ثابت است و جمع کانولوشن به شکل زیر ساده می شود:"
   ]
  },
  {
   "cell_type": "markdown",
   "id": "2bdc1c80-ede9-4914-b063-5720b1ca4598",
   "metadata": {},
   "source": [
    "$$ y[n] = K x[n] $$   (63-2)"
   ]
  },
  {
   "cell_type": "markdown",
   "id": "fdc0b959-d70e-46dd-ba5d-aaa1b6f8dc1b",
   "metadata": {},
   "source": [
    "اگر پاسخ ضربه یک سیستم گسسته در زمان خطی تغییرناپذیر با زمان به ازای $ n \\neq 0 $ متحد با صفر نباشد، سیستم حافظه دارد. سیستم بیان شده با معادله 2-42 نمونه‌ای از سیستمهای حافظه‌دار است. پاسخ ضربه این سیستم ، که با معادله 2-41 بیان شده، به ازای $ n = 1 $ صفر نیست.\n",
    "باتوجه به معادله 2-40 میتوان خواص مشابهی برای سیستمهای خطی تغییرناپذیر با زمان پیوسته در زمان باحافظه و بدون حافظه بدست آورد. سیستم پیوسته در زمان خطی تغییرناپذیر با زمان به شرطی بدون حافظه است که به ازای $ t \\neq 0 $ داشته باشیم $ h(t) = 0 $. این سیستم بدون حافظه رابطه‌ای به شکل زیر دارد:"
   ]
  },
  {
   "cell_type": "markdown",
   "id": "32d14d8d-6517-4ce7-aa67-e511a84b26fb",
   "metadata": {},
   "source": [
    "$$ y(t) = K x(t) $$   (64-2)"
   ]
  },
  {
   "cell_type": "markdown",
   "id": "5280f810-a4c3-4eb1-bb47-13265f1aecec",
   "metadata": {},
   "source": [
    "که در آن $ K $ ثابت است. پاسخ ضربه این سیستم عبارت است از:"
   ]
  },
  {
   "cell_type": "markdown",
   "id": "ba77e01a-c6fb-45f6-b39c-14950b7fb484",
   "metadata": {},
   "source": [
    "$$ h(t) = K \\delta (t) $$   (65-2)"
   ]
  },
  {
   "cell_type": "markdown",
   "id": "d6fe63a8-b381-42d0-8cfb-30f2100b0685",
   "metadata": {},
   "source": [
    "توجه کنید که در معادله‌های 2-62 و 2-65 به ازای $ K = 1 $ **سیستمهای همانی** داریم، یعنی خروجی با ورودی برابر و پاسخ ضربه، ضربه واحد است. در اینصورت جمع و انتگرال کانولوشن به صورت زیرند:"
   ]
  },
  {
   "cell_type": "markdown",
   "id": "698569ce-776e-441d-8b28-561eb587f37f",
   "metadata": {},
   "source": [
    "$$ x[n] = x[n] * h[n] $$\n",
    "$$ x(t) = x(t) * h(t) $$"
   ]
  },
  {
   "cell_type": "markdown",
   "id": "ca852986-4d7e-4d6d-af06-22f0b0a50107",
   "metadata": {},
   "source": [
    "که همان خاصیت غربالی ضربه واحد در حالتهای گسسته در زمان و پیوسته در زمان هستند:"
   ]
  },
  {
   "cell_type": "markdown",
   "id": "b1c4cc0c-05d6-4890-a398-795cd0118687",
   "metadata": {},
   "source": [
    "$$ x[n] = \\sum_{k=-\\infty}^{\\infty} x[k] \\; h[n-k] $$\n",
    "$$ x(t) = \\int_{-\\infty}^{\\infty} x(\\tau) \\; h(t-\\tau)\\ d\\tau $$"
   ]
  },
  {
   "cell_type": "markdown",
   "id": "df17764a-149e-4624-ab89-1193bf88a69f",
   "metadata": {},
   "source": [
    "# فصل دوم-صفحه 102\n",
    "## وارون پذیری سیستمهای خطی تغییرناپذیر با زمان"
   ]
  },
  {
   "cell_type": "markdown",
   "id": "0fd2d07e-3234-4d20-a8b6-fea9d363777b",
   "metadata": {},
   "source": [
    "یک سیستم پیوسته در زمان $ LTI $ با پاسخ ضربه $ h(t) $ در نظر بگیرید. بر اساس مباحث بخش 1-6-2 این سیستم تنها به شرطی وارونپذیر است که برای آن سیستم وارونی وجود داشته باشد که اگر با سیستم اصلی سری شود، خروجی آن با ورودی سیستم اول برابر باشد. به علاوه اگر یک سیستم $ LTI $ وارونپذیر باشد، یک سیستم وارون $ LTI $ دارد (مسئله 2-50 را ببینید). پس وضعیت نشان داده شده در شکل 2-26 را داریم. سیستمی با پاسخ ضربه $ h(t) $ داده شده است. سیستم وارون با پاسخ ضربه $ h_1(t) $، که به $ w(t) = x(t) $ منجر میشود، به نحوی است که اتصال سری شکل 2-26 (الف) با سیستم همانی شکل 2-26 (ب) هم ارز است. چون پاسخ ضربه سیستم شکل 2-26 (الف) $ h(t) * h_1(t) $ است، برای اینکه $ h_1(t) $ پاسخ ضربه سیستم وارون باشد، باید شرط زیر ارضا شود:"
   ]
  },
  {
   "cell_type": "markdown",
   "id": "e2f20206-a7ba-4606-9754-bc1636627ceb",
   "metadata": {},
   "source": [
    "$$ h(t) * h_1(t) = \\delta(t) $$   (66-2)"
   ]
  },
  {
   "cell_type": "markdown",
   "id": "764b9d5b-4fb4-447f-9039-f3df923a51dc",
   "metadata": {},
   "source": [
    "به طور مشابه، در حالت گسسته زمان پاسخ ضربه سیستم وارون سیستم $ LTI $ دارای پاسخ ضربه $ h[n] $، باید شرط زیر را ارضا کند:"
   ]
  },
  {
   "cell_type": "markdown",
   "id": "ddaa024c-b754-459d-8bd1-85a5ba87c294",
   "metadata": {},
   "source": [
    "$$ h[n] * h_1[n] = \\delta[n] $$   (67-2)"
   ]
  },
  {
   "cell_type": "markdown",
   "id": "db8dfc80-1269-4701-98ba-37c05799184a",
   "metadata": {},
   "source": [
    "### شکل 2-26 (الف):"
   ]
  },
  {
   "cell_type": "code",
   "execution_count": 79,
   "id": "545a0b21-f5b5-45a6-958f-909824eee950",
   "metadata": {},
   "outputs": [
    {
     "data": {
      "image/png": "[encoded data removed]",
      "text/plain": [
       "<Figure size 650x150 with 1 Axes>"
      ]
     },
     "metadata": {},
     "output_type": "display_data"
    }
   ],
   "source": [
    "import matplotlib.pyplot as plt\n",
    "import matplotlib.patches as patches\n",
    "\n",
    "# ایجاد شکل\n",
    "fig, ax = plt.subplots(figsize=(6.5, 1.5))\n",
    "ax.set_xlim(-0.5, 5)\n",
    "ax.set_ylim(-0.5, 0.5)\n",
    "ax.axis(\"off\")\n",
    "\n",
    "# اندازه و موقعیت مستطیل‌ها\n",
    "w, h = 0.8, 0.6  # عرض و ارتفاع مستطیل‌ها\n",
    "rect1_x, rect1_y = 1.0, -0.3  # موقعیت اولین بلوک\n",
    "rect2_x, rect2_y = 2.5, -0.3  # موقعیت دومین بلوک\n",
    "\n",
    "# رسم مستطیل‌ها\n",
    "rect1 = patches.Rectangle((rect1_x, rect1_y), w, h, edgecolor=\"black\", facecolor=\"white\", lw=2)\n",
    "rect2 = patches.Rectangle((rect2_x, rect2_y), w, h, edgecolor=\"black\", facecolor=\"white\", lw=2)\n",
    "ax.add_patch(rect1)\n",
    "ax.add_patch(rect2)\n",
    "\n",
    "# اضافه کردن متن برای بلوک‌ها\n",
    "ax.text(rect1_x + w / 2, rect1_y + h / 2, r\"$h(t)$\", fontsize=14, ha=\"center\", va=\"center\")\n",
    "ax.text(rect2_x + w / 2, rect2_y + h / 2, r\"$h_1(t)$\", fontsize=14, ha=\"center\", va=\"center\")\n",
    "\n",
    "# اضافه کردن متن برای ورودی، خروجی و سیگنال‌ها\n",
    "ax.text(0, 0, r\"$x(t)$\", fontsize=14, va=\"center\", ha=\"center\")\n",
    "ax.text(2.1, 0.12, r\"$y(t)$\", fontsize=14, va=\"center\", ha=\"center\")\n",
    "ax.text(4.2, 0.12, r\"$w(t) = x(t)$\", fontsize=14, va=\"center\", ha=\"center\")\n",
    "\n",
    "# رسم فلش‌ها با طول بیشتر\n",
    "ax.arrow(0.2, 0, rect1_x - 0.3, 0, head_width=0.05, head_length=0.1, fc=\"black\", ec=\"black\")  # x(t) -> h(t)\n",
    "ax.arrow(rect1_x + w, 0, rect2_x - (rect1_x + w) - 0.1, 0, head_width=0.05, head_length=0.1, fc=\"black\", ec=\"black\")  # h(t) -> h1(t)\n",
    "ax.arrow(rect2_x + w, 0, 4.6 - (rect2_x + w), 0, head_width=0.05, head_length=0.1, fc=\"black\", ec=\"black\")  # h1(t) -> w(t) = x(t)\n",
    "\n",
    "# نمایش شکل\n",
    "plt.show()\n"
   ]
  },
  {
   "cell_type": "markdown",
   "id": "51e172d7-4f40-4b4c-8d6b-f055a9d2c728",
   "metadata": {},
   "source": [
    "### شکل 2-26 (ب):"
   ]
  },
  {
   "cell_type": "code",
   "execution_count": 106,
   "id": "f7cb586a-edde-4ea2-905a-94aedd789de0",
   "metadata": {},
   "outputs": [
    {
     "data": {
      "image/png": "[encoded data removed]",
      "text/plain": [
       "<Figure size 550x200 with 1 Axes>"
      ]
     },
     "metadata": {},
     "output_type": "display_data"
    }
   ],
   "source": [
    "import matplotlib.pyplot as plt\n",
    "import matplotlib.patches as patches\n",
    "\n",
    "fig, ax = plt.subplots(figsize=(5.5, 2))\n",
    "\n",
    "# رسم جعبه سیستم\n",
    "ax.add_patch(patches.Rectangle((-1, -0.5), 2, 1, fill=False, edgecolor='black', lw=2))\n",
    "ax.text(0, 0.2, 'Identity System', fontsize=12, ha='center', va='center', fontname='Arial')\n",
    "ax.text(0, -0.2, '$\\\\delta(t)$', fontsize=12, ha='center', va='center')\n",
    "\n",
    "# رسم ورودی و خروجی\n",
    "ax.arrow(-2, 0, 0.88, 0, head_width=0.1, head_length=0.1, fc='black', ec='black', lw=1.5)\n",
    "ax.arrow(1, 0, 1, 0, head_width=0.1, head_length=0.1, fc='black', ec='black', lw=1.5)\n",
    "\n",
    "# اضافه کردن متون ورودی و خروجی\n",
    "ax.text(-2.2, 0, '$x(t)$', fontsize=12, va='center', ha='right')\n",
    "ax.text(2.2, 0, '$x(t)$', fontsize=12, va='center', ha='left')\n",
    "\n",
    "# تنظیمات محورها\n",
    "ax.set_xlim(-2.5, 2.5)\n",
    "ax.set_ylim(-1, 1)\n",
    "ax.set_xticks([])\n",
    "ax.set_yticks([])\n",
    "ax.axis('off')\n",
    "\n",
    "plt.show()\n"
   ]
  },
  {
   "cell_type": "markdown",
   "id": "8931fa19-cffd-4980-8f67-4580bbb8d01d",
   "metadata": {},
   "source": [
    "دو مثال زیر وارونپذیری و یافتن سیستم وارون را نشان میدهند."
   ]
  },
  {
   "cell_type": "markdown",
   "id": "063ddf92-ada7-4782-85c9-2eb42e0b6b18",
   "metadata": {},
   "source": [
    "#### **مثال 2-11:**"
   ]
  },
  {
   "cell_type": "markdown",
   "id": "9f747a20-5d6e-4064-a0cc-9e43788e97e0",
   "metadata": {},
   "source": [
    "سیستم $ LTI $ زیر را، که یک جابه‌جاکننده زمانی است، در نظر بگیرید:"
   ]
  },
  {
   "cell_type": "markdown",
   "id": "50f8daee-4c9b-4960-9724-a5f1a03d7aa3",
   "metadata": {},
   "source": [
    "$$ y(t) = x(t-t_0) $$   (68-2)"
   ]
  },
  {
   "cell_type": "markdown",
   "id": "314e54d4-b53a-4c62-81ab-598fa62824d5",
   "metadata": {},
   "source": [
    "به ازای $ t_0 > 0 $ سیستم را **تاخیردهنده** و به ازای $ t_0 < 0 $ آن را **جلوبرنده** مینامند. مثلا به ازای $ t_0 > 0 $، خروجی در زمان $ t $ با مقدار ورودی در زمان $ t-t_0 $، که قبل از زمان $ t $ است، برابر است. سیستم معادله 2-68 به ازای $ t = 0 $ یک سیستم همانی، در نتیجه بی حافظه است. به ازای مقادیر غیرصفر $ t_0 $، این سیستم حافظه دارد و به ورودی سیستم در زمانی غیر از زمان فعلی پاسخ میدهد.\n",
    "پاسخ ضربه این سیستم را میتوان با گذاشتن $ \\delta(t) $ به جای ورودی معادله 2-68 بدست آورد:"
   ]
  },
  {
   "cell_type": "markdown",
   "id": "d640e2ea-7bfb-404c-9ab9-2838a19f0685",
   "metadata": {},
   "source": [
    "$$ h(t) = \\delta(t-t_0) $$   (69-2)"
   ]
  },
  {
   "cell_type": "markdown",
   "id": "15691811-c5d3-4c7b-8a27-f2e1a02120f6",
   "metadata": {},
   "source": [
    "بنابراین:"
   ]
  },
  {
   "cell_type": "markdown",
   "id": "ddc087c3-dbf8-49bd-9fc8-394cd04275b5",
   "metadata": {},
   "source": [
    "$$ x(t-t_0) = x(t) * \\delta(t-t_0) $$   (70-2)"
   ]
  },
  {
   "cell_type": "markdown",
   "id": "ade245c3-485e-4e98-8dc8-b82859f6ad0d",
   "metadata": {},
   "source": [
    "یعنی کانولوشن یک سیگنال با ضربه جابه‌جا شده فقط سیگنال را جابه‌جا میکند.\n",
    "برای بازیابی ورودی از خروجی، یعنی برای وارون کردن سیستم، تنها باید خروجی را به جای اول برگردانیم. سیستم دارای این جابه‌جایی جبران کننده، وارون سیستم اولی است. یعنی اگر داشته باشیم:"
   ]
  },
  {
   "cell_type": "markdown",
   "id": "edb4fafc-d1f4-4536-a892-d8678a5d277e",
   "metadata": {},
   "source": [
    "$$ h_1(t) = \\delta(t-t_0) $$"
   ]
  },
  {
   "cell_type": "markdown",
   "id": "6d1e6039-4307-4377-81b5-6d52bdea7a36",
   "metadata": {},
   "source": [
    "آنگاه:"
   ]
  },
  {
   "cell_type": "markdown",
   "id": "ab7dbe92-0a51-4a50-b5e9-b3e70d4edab1",
   "metadata": {},
   "source": [
    "$$ h(t) * h_1(t) = \\delta(t-t_0) * \\delta(t+t_0) = \\delta(t) $$"
   ]
  },
  {
   "cell_type": "markdown",
   "id": "66dde81e-0b48-4964-982a-d093404b3607",
   "metadata": {},
   "source": [
    "به طور مشابه، پاسخ ضربه یک جابه‌جاکننده زمانی گسسته در زمان بصورت $ \\delta[n-n_0] $ است. پس کانولوشن یک سیگنال با ضربه جابه‌جا شده به جابه‌جایی آن سیگنال منجر میشود. وارون یک سیستم $ LTI $ با پاسخ ضربه $ \\delta[n-n_0] $، یک سیگنال $ LTI $ است که سیگنال را به همان اندازه در جهت عکس جابه‌جا کند. پاسخ ضربه این سیستم $ \\delta[n+n_0] $ است."
   ]
  },
  {
   "cell_type": "markdown",
   "id": "c93758b9-8ee5-420b-baf1-670a919fccfc",
   "metadata": {},
   "source": [
    "#### **مثال 2-12:**"
   ]
  },
  {
   "cell_type": "markdown",
   "id": "7d08200a-8dc6-4fbb-bcc1-63b64144c532",
   "metadata": {},
   "source": [
    "یک سیستم $ LTI $ با پاسخ ضربه زیر در نظر بگیرید:"
   ]
  },
  {
   "cell_type": "markdown",
   "id": "8bf62f82-bbb0-40ad-82c3-7d661f025b3a",
   "metadata": {},
   "source": [
    "$$ h[n] = u[n] $$   (71-2)"
   ]
  },
  {
   "cell_type": "markdown",
   "id": "bc1e318f-b550-405b-a9fe-771f22e6cf8d",
   "metadata": {},
   "source": [
    "به کمک جمع کانولوشن میتوانیم پاسخ این سیستم به هر ورودی دلخواهی را بیابیم:"
   ]
  },
  {
   "cell_type": "markdown",
   "id": "9b5f38e9-8113-4d14-8d2c-3073f748f3d3",
   "metadata": {},
   "source": [
    "$$ y[n] = \\sum_{k=-\\infty}^{\\infty} x[k] \\; u[n-k] $$   (72-2)"
   ]
  },
  {
   "cell_type": "markdown",
   "id": "6eb0e198-f6a4-440b-b85e-d79cd1228ff8",
   "metadata": {},
   "source": [
    "چون $ u[n-k] $ به ازای $ [n-k] \\geq 0 $ برابر صفر، و به ازای $ [n-k] < 0 $ برابر یک است، معادله 2-72 به این شکل درمیاید:"
   ]
  },
  {
   "cell_type": "markdown",
   "id": "bfbdb547-7185-497b-9e4a-7b77e727a908",
   "metadata": {},
   "source": [
    "$$ y[n] = \\sum_{k=-\\infty}^{n} x[k] $$   (73-2)"
   ]
  },
  {
   "cell_type": "markdown",
   "id": "438c05f0-67d6-41f4-9ad3-db66e441dc35",
   "metadata": {},
   "source": [
    "این سیستم که در بخش 1-6-1 برای اولین بار آنرا دیدیم (معادله 1-92 را ببینید)، یک **جمع کننده** یا **انباره** است که تمام مقادیر ورودی تا لحظه فعلی را باهم جمع میکند. در بخش 1-6-2 دیدیم که این سیستم وارونپذیر است و وارون آن مطابق معادله 1-99 عبارت است از:"
   ]
  },
  {
   "cell_type": "markdown",
   "id": "da21c8ed-39ca-4c70-a2a0-ef4c4216f019",
   "metadata": {},
   "source": [
    "$$ y[n] = x[n] - x[n-1] $$   (74-2)"
   ]
  },
  {
   "cell_type": "markdown",
   "id": "231f8092-b728-4834-9d30-686f1e25e86e",
   "metadata": {},
   "source": [
    "که عمل **تفاضل اول** است. با انتخاب $ x[n] = \\delta[n] $ میتوان پاسخ ضربه سیستم وارون را یافت:"
   ]
  },
  {
   "cell_type": "markdown",
   "id": "4bf0f339-64dc-47a9-a8f2-c1fa87e7a9a7",
   "metadata": {},
   "source": [
    "$$ h_1[n] = \\delta[n] - \\delta[n-1] $$   (75-2)"
   ]
  },
  {
   "cell_type": "markdown",
   "id": "eff86c44-1092-4b41-b8e6-1f3bff599e73",
   "metadata": {},
   "source": [
    "برای امتحان اینکه $ h[n] $ معادله 2-71 و $ h_1[n] $ معادله 2-75 پاسخ ضربه‌های سیستم $ LTI $ وارون هستند، میتوانیم معادله 2-67 را مستقیما محاسبه کنیم:"
   ]
  },
  {
   "cell_type": "markdown",
   "id": "483ab631-e51b-44a2-9aa0-c5ca88068797",
   "metadata": {},
   "source": [
    "$$ h[n] * h_1[n] = u[n] * (\\delta[n] - \\delta[n-1]) $$\n",
    "              $$ = (u[n] * \\delta[n]) - (u[n] * \\delta[n-1]) $$\n",
    "              $$ = u[n] - u[n-1] $$\n",
    "              $$ = \\delta[n] $$   (76-2)"
   ]
  },
  {
   "cell_type": "markdown",
   "id": "fa058089-0b47-47e3-ac65-effa834abb39",
   "metadata": {},
   "source": [
    "# فصل دوم-صفحه 104\n",
    "## علی بودن سیستمهای خطی تغییرناپذیر با زمان"
   ]
  },
  {
   "cell_type": "markdown",
   "id": "a1c58d49-8414-46f2-9b98-b89218ee1751",
   "metadata": {},
   "source": [
    "خاصیت علی بودن را در بخش 1-6-3 معرفی کردیم: خروجی یک سیستم علی تنها به مقادیر فعلی و قبلی ورودی بستگی دارد. با استفاده از جمع و انتگرال کانولوشن میتوانیم این خاصیت را به خاصیت متناظری از پاسخ ضربه سیستم $ LTI $ مربوط کنیم. برای اینکه یک سیستم $ LTI $ گسسته در زمان علی باشد، $ y[n] $ نباید به مقادیر $ x[k] $ با $ k>n $ بستگی داشته باشد. باتوجه به معادله 2-39 برای برقراری این شرط باید تمام ضرایب $ h[n-k] $ که در $ k>n $ در $ x[k] $ ضرب میشوند صفر باشند. ارضای این شرط مستلزم آن است که پاسخ ضربه سیستم $ LTI $ علی گسسته در زمان، شرط زیر را ارضا کند:"
   ]
  },
  {
   "cell_type": "markdown",
   "id": "3e2d1484-9deb-42a4-9063-c0069b606dbe",
   "metadata": {},
   "source": [
    "$$ h[n] = 0 \\; \\; , n<0 $$   (77-2)"
   ]
  },
  {
   "cell_type": "markdown",
   "id": "a6956ec7-2d5a-456b-be98-d98a9b133238",
   "metadata": {},
   "source": [
    "معادله 2-77 میگوید پاسخ ضربه یک سیستم خطی تغییرناپذیر با زمان علی باید قبل از وقوع ضربه صفر باشد، چیزی که با مفهوم شهودی علی بودن نیز سازگار است. همانطور که در مسئله 1-44 نشان داده میشود، علی بودن یک سیستم خطی تغییرناپذیر با زمان با شرط **سکون ابتدایی** هم ارز است؛ یعنی اگر ورودی یک سیستم علی تا یک زمان معین یعنی اگر ورودی یک سیستم علی تا یک زمان معین صفر باشد، خروجی نیز باید تا آن زمان صفر باشد. تاکید بر این نکته مهم است که استلزام علی بودن و سکون ابتدایی تنها برای سیستمهای خطی درست است. مثلا چنانچه در بخش 1-6-6 دیدیم، سیستم"
   ]
  },
  {
   "cell_type": "markdown",
   "id": "9f61c133-1da3-46db-8a6e-a89dc8d0b7bb",
   "metadata": {},
   "source": [
    "$$ y[n] = 2x[n] + 3 $$"
   ]
  },
  {
   "cell_type": "markdown",
   "id": "b2511438-1ced-4aeb-8a48-6b6c7170ef69",
   "metadata": {},
   "source": [
    "خطی نیست. ولی این سیستم علی و درواقع بدون حافظه است. ولی به ازای $ x[n] = 0 $، $ y[n] = 3 \\neq 0 $، پس شرط سکون ابتدایی ارضا نمیشود.\n",
    "برای یک سیستم $ LTI $ علی گسسته در زمان، شرط معادله 2-77 جمع کانولوشن معادله 2-39 را بصورت زیر درمیاورد:"
   ]
  },
  {
   "cell_type": "markdown",
   "id": "02b99954-2e62-4abc-80d3-dc6a611e70bc",
   "metadata": {},
   "source": [
    "$$ y[n] = \\sum_{k=-\\infty}^{n} x[k] \\; h[n-k]  $$   (78-2)"
   ]
  },
  {
   "cell_type": "markdown",
   "id": "0257e36f-5e6c-4c5e-870e-cf88f7a08ac2",
   "metadata": {},
   "source": [
    "همچنین شکل دیگر جمع کانولوشن، یعنی معادله 2-43 بصورت زیر تبدیل میشود:"
   ]
  },
  {
   "cell_type": "markdown",
   "id": "49835b63-b89b-4a8c-9538-0f8714a747e8",
   "metadata": {},
   "source": [
    "$$ y[n] = \\sum_{k=0}^{n} h[k] \\; x[n-k] $$   (79-2)"
   ]
  },
  {
   "cell_type": "markdown",
   "id": "6ad67225-f45d-4f1d-b820-399ab8c30871",
   "metadata": {},
   "source": [
    "به نحوی مشابه، یک سیستم $ LTI $ پیوسته در زمان به شرطی علی است که داشته باشیم:"
   ]
  },
  {
   "cell_type": "markdown",
   "id": "f48937e5-d336-4501-b92f-3f29f7b87151",
   "metadata": {},
   "source": [
    "$$ h(t) = 0 \\; , t<0 $$   (80-2)"
   ]
  },
  {
   "cell_type": "markdown",
   "id": "94be926c-47fe-470c-9e73-7df64f52fb8c",
   "metadata": {},
   "source": [
    "و در اینصورت انتگرال کانولوشن بصورت زیر درمیاید:"
   ]
  },
  {
   "cell_type": "markdown",
   "id": "3f509059-c234-40b4-9ee1-e96dd09f3b6d",
   "metadata": {},
   "source": [
    "$$ y(t) = \\int_{-\\infty}^{t} x(\\tau) \\; h(t-\\tau)d\\tau = \\int_{0}^{\\infty} h(\\tau) \\; x(t-\\tau)d\\tau $$   (81-2)"
   ]
  },
  {
   "cell_type": "markdown",
   "id": "19430963-20d1-4ec6-bd92-c33ff200c3ae",
   "metadata": {},
   "source": [
    "هم انباره ($ h[n] = u[n] $) و هم وارون آن ($ h[n] = \\delta[n] - \\delta[n-1] $) که در مثال 2-12 توصیف شدند، معادله 2-77 را ارضا میکنند، بنابراین علی‌اند. جابه‌جاکننده زمانی، با $ h(t) = \\delta(t-t_0) $ به ازای $ t_0 \\geq 0 $ علی است و به ازای $ t_0 < 0 $ غیرعلی (حالت اول با تاخیر و حالت دوم با جلو بردن متناظر است، یعنی حالت دوم با پیش بینی مقادیر آینده ورودی همراه است).\n",
    "گرچه علی بودن از خواص سیستمهاست، ولی معمولا سیگنالی را که در $ n < 0 $ یا $ t < 0 $ صفر باشد، سیگنال علی مینامند. علت این نامگذاری باتوجه به معادلات 2-77 و 2-80 معلوم میشود: یک سیستم $ LTI $ به شرطی علی است که پاسخ ضربه‌اش یک سیگنال علی باشد."
   ]
  },
  {
   "cell_type": "markdown",
   "id": "9042b03e-2836-4ff4-ab0c-76516cd2cb4f",
   "metadata": {},
   "source": [
    "# فصل دوم-صفحه 105\n",
    "## پایداری سیستم خطی تغییرناپذیر با زمان"
   ]
  },
  {
   "cell_type": "markdown",
   "id": "e26dfe7f-c90d-47e7-ba71-434a5e76c401",
   "metadata": {},
   "source": [
    "از بخش 1-6-4 به یاد دارید که یک سیستم به شرطی پایدار است که هر ورودی کراندار آإن، خروجی کرانداری ایجاد کند. برای تعیین شرایط پایداری سیستمهای $ LTI $ ورودی $ x[n] $ را، که اندازه کرانداری دارد، در نظر بگیرید (به ازای تمام مقادیر $ n $ ):"
   ]
  },
  {
   "cell_type": "markdown",
   "id": "2be97c47-1269-4136-9bf6-975f597dfbb2",
   "metadata": {},
   "source": [
    "$$ | x[n] | < B $$   (82-2)"
   ]
  },
  {
   "cell_type": "markdown",
   "id": "f1f5d6c3-d7c4-4ee3-b821-0d19f2f1e00a",
   "metadata": {},
   "source": [
    "این ورودی را به یک سیستم $ LTI $ با پاسخ ضربه $ h[n] $ اعمال میکنیم. باتوجه به جمع کانولوشن عبارت زیر را برای اندازه خروجی بدست میاوریم:"
   ]
  },
  {
   "cell_type": "markdown",
   "id": "cd33a01a-2b38-493e-adc5-cdf22b33409a",
   "metadata": {},
   "source": [
    "$$ | \\; y[n] \\; | = |\\sum_{k=-\\infty}^{\\infty} h[k] \\; x[n-k] \\; | $$   (83-2)"
   ]
  },
  {
   "cell_type": "markdown",
   "id": "9ac22e84-197a-4984-8c89-2b8a2dd2705d",
   "metadata": {},
   "source": [
    "چون اندازه مجموع چند عدد کوچکتر یا مساوری مجموع اندازه آن اعداد است، از معادله 2-83 نتیجه میگیریم که:"
   ]
  },
  {
   "cell_type": "markdown",
   "id": "917b4317-6391-4583-b7b2-5fb881198005",
   "metadata": {},
   "source": [
    "$$ | \\; y[n] \\;| \\leq \\sum_{k=-\\infty}^{\\infty} | \\; h[k] \\; | \\; | \\; x[n-k] \\; | $$   (84-2)"
   ]
  },
  {
   "cell_type": "markdown",
   "id": "99eed809-d880-441a-943e-688a7a178870",
   "metadata": {},
   "source": [
    "باتوجه به معادله 2-84، به ازای تمام مقادیر $n$ و $k$ داریم $|\\;x[n]\\;|<B$. از این رابطه و معادله 2-84 نتیجه میگیریم که: (به ازای تمام مقادیر $ n $ )"
   ]
  },
  {
   "cell_type": "markdown",
   "id": "745b2a0f-464c-4b19-8a2b-50a65b04e32d",
   "metadata": {},
   "source": [
    "$$ | \\; y[n] \\;| \\leq B \\;\\; \\sum_{k=-\\infty}^{\\infty} | \\; h[k] \\; | $$   (85-2)"
   ]
  },
  {
   "cell_type": "markdown",
   "id": "c2f12343-e432-45ec-a4ef-daa9b00fa68a",
   "metadata": {},
   "source": [
    "پس میتوانیم از معادله 2-85 نتیجه بگیریم که اگر پاسخ ضربه **مطلقا جمع پذیر** باشد، یعنی:"
   ]
  },
  {
   "cell_type": "markdown",
   "id": "502cf3bd-c5f8-4ceb-abd8-ccc8b1f32980",
   "metadata": {},
   "source": [
    "$$ \\sum_{k=-\\infty}^{\\infty} | \\; h[k] \\; | < \\infty $$   (86-2)"
   ]
  },
  {
   "cell_type": "markdown",
   "id": "d5f5dbfa-a523-4f07-93bd-51a4760f9e1c",
   "metadata": {},
   "source": [
    "آنگاه اندازه $ y[n] $ کراندار و درنتیجه سیستم پایدار است. پس معادله 2-86 یک شرط کافی برای تضمین پایداری سیستمهای $ LTI $ گسسته در زمان است. در حقیقت این شزط، شرط لازم هم هست، زیرا همانطور که در مسئله 2-49 نشان داده میشود درصورت ارضا نشدن معادله 2-86 ورودیهای کراندار، خروجیهای بیکران ایجاد میکنند. پس پایداری یک سیستم $ LTI $ گسسته در زمان با معادله 2-86 کاملا هم ارز است.\n",
    "در حالت پیوسته در زمان هم برای پایداری شرط مشابهی بر حسب پاسخ ضربه سیستم $ LTI $ بدست میاوریم. یعنی اگر به ازای هر $ t $، داشته باشیم $ |\\;x(t)\\;|<B $، به قیاس معادلات 2-83 تا 2-85 نتیجه میگیریم که:"
   ]
  },
  {
   "cell_type": "markdown",
   "id": "f7869cbd-5497-4399-8a57-e09567ba02c2",
   "metadata": {},
   "source": [
    "$$ |\\; y(t)\\;| = |\\int_{-\\infty}^{\\infty} h(\\tau)\\;x(t-\\tau)d\\tau\\;| $$\n",
    "$$ \\;\\;\\;\\;\\;\\;\\;\\; \\leq \\int_{-\\infty}^{\\infty} |\\;h(\\tau)\\;|\\;|\\;x(t-\\tau)\\;|\\;d\\tau $$\n",
    "$$ \\;\\;\\;\\;\\;\\; \\leq B \\int_{-\\infty}^{\\infty} |\\; h(\\tau)\\;|\\;d\\tau $$"
   ]
  },
  {
   "cell_type": "markdown",
   "id": "82724521-acf2-4490-97c7-0ab3fbad7529",
   "metadata": {},
   "source": [
    "پس سیستم به شرطی پایدار است که پاسخ ضربه آن **مطلقا انتگرالپذیر** باشد، یعنی اگر"
   ]
  },
  {
   "cell_type": "markdown",
   "id": "e74deea7-bfd3-432e-9897-930c640dd3a2",
   "metadata": {},
   "source": [
    "$$ \\int_{-\\infty}^{\\infty} |\\;h(\\tau)\\;|\\;d\\tau\\;<\\infty $$   (87-2)"
   ]
  },
  {
   "cell_type": "markdown",
   "id": "f6a47ffe-e090-4754-8c8c-f432d9727f21",
   "metadata": {},
   "source": [
    "مانند حالت گسسته در زمان، اگر معادله 2-87 ارضا نشود، ورودی کراندار میتواند خروجی بیکران تولید کند. پس پایداری یک سیستم $ LTI $ پیوسته در زمان با معادله 2-87 هم ارز است. مثال زیر کاربرد معادلات 2-87 برای بررسی پایداری را نشان میدهد."
   ]
  },
  {
   "cell_type": "markdown",
   "id": "24682781-c7ef-45ef-8419-2d7adb3ddf58",
   "metadata": {},
   "source": [
    "#### **مثال 2-13:**"
   ]
  },
  {
   "cell_type": "markdown",
   "id": "70b8a0ff-9ce9-4f63-8111-2530829e7fa2",
   "metadata": {},
   "source": [
    "سیستمهای جابه‌جاکننده در حالت پیوسته و گسسته در زمان را در نظر بگیرید. برای حالت گسسته در زمان:"
   ]
  },
  {
   "cell_type": "markdown",
   "id": "72287da2-6b04-416c-a94c-3e32e1f36ac7",
   "metadata": {},
   "source": [
    "$$ \\sum_{n=-\\infty}^{\\infty} |\\;h[n]\\;| = \\sum_{n=-\\infty}^{\\infty} |\\;\\delta[n-n_0]\\;| = 1 $$   (88-2)"
   ]
  },
  {
   "cell_type": "markdown",
   "id": "0798d074-3f7b-4e3a-971e-0ed138db71d3",
   "metadata": {},
   "source": [
    "و برای حالت پیوسته در زمان:"
   ]
  },
  {
   "cell_type": "markdown",
   "id": "a8bac7ff-10a0-4549-98c5-672b6d8485ad",
   "metadata": {},
   "source": [
    "$$ \\int_{-\\infty}^{\\infty} |\\;h(\\tau)\\;|\\;d(\\tau) = \\int_{-\\infty}^{\\infty}|\\;\\delta(t-t_0)\\;|\\;d(\\tau) = 1 $$   (89-2)"
   ]
  },
  {
   "cell_type": "markdown",
   "id": "9d36eb05-0608-4878-b1cb-f15b365edbf6",
   "metadata": {},
   "source": [
    "بنابراین نتیجه میگیریم که هر دو سیستم پایدارند. البته جای تعجب نیست چون اگر سیگنالی دامنه کراندار داشته باشد، جابه‌جا شده آن هم کراندار است.\n",
    "حال انباره مثال 2-12 را در نظر بگیرید. در بخش 1-6-4 گفتیم که این سیستم ناپایدار است، زیرا با اعمال یک ورودی ثابت، خروجی به طور بیکران افزایش میابد. پایدار نبودن این سیستم را میتوان باتوجه به اینکه پاسخ ضربه آن $ h[n] $ مطلقا جمعپذیر نیست، نشان داد:"
   ]
  },
  {
   "cell_type": "markdown",
   "id": "90234c3c-c06b-4f84-9e38-d453ea656cca",
   "metadata": {},
   "source": [
    "$$ \\sum_{n=-\\infty}^{\\infty} |\\;u[n]\\;| = \\sum_{n=0}^{\\infty} u[n] = \\infty $$"
   ]
  },
  {
   "cell_type": "markdown",
   "id": "7b4595fd-bb10-40f9-a690-11fd8b7369c2",
   "metadata": {},
   "source": [
    "بطور مشابه **انتگرالگیر** را که همتای پیوسته در زمان انباره است، در نظر بگیرید:"
   ]
  },
  {
   "cell_type": "markdown",
   "id": "ac26cf30-c63d-48c6-a892-69a65899b29f",
   "metadata": {},
   "source": [
    "$$ y(t) = \\int_{-\\infty}^{t} x(\\tau)\\;d\\tau $$   (90-2)"
   ]
  },
  {
   "cell_type": "markdown",
   "id": "00e6598d-32de-45f0-9326-2bc93a6d2fc8",
   "metadata": {},
   "source": [
    "این سیستم ناپایدار است، دقیقبا به همان دلیل که انباره ناپایدار است؛ یعنی به ازای ورودی ثابت خروجی به طور بیکران زیاد میشود. پاسخ ضربه این سیستم را میتوان با قرار دادن $ x(t) = \\delta(t) $ پیدا کرد، که نتیجه میدهد:"
   ]
  },
  {
   "cell_type": "markdown",
   "id": "896191d2-c9b6-445e-ada7-01a4f68dea78",
   "metadata": {},
   "source": [
    "$$ h(t) = \\int_{-\\infty}^{t} \\delta(\\tau)\\;d\\tau = u(t) $$\n",
    "و\n",
    "$$ \\int_{-\\infty}^{\\infty}|\\;u(\\tau)\\;|\\;d\\tau = \\int_{0}^{\\infty} d\\tau = \\infty $$"
   ]
  },
  {
   "cell_type": "markdown",
   "id": "c2c52082-9c96-4c3d-9a2e-1a400fe5e811",
   "metadata": {},
   "source": [
    "چون پاسخ ضربه مطلقا انتگرالپذیر نیست، این سیستم پایدار نیست."
   ]
  }
 ],
 "metadata": {
  "kernelspec": {
   "display_name": "Python [conda env:base] *",
   "language": "python",
   "name": "conda-base-py"
  },
  "language_info": {
   "codemirror_mode": {
    "name": "ipython",
    "version": 3
   },
   "file_extension": ".py",
   "mimetype": "text/x-python",
   "name": "python",
   "nbconvert_exporter": "python",
   "pygments_lexer": "ipython3",
   "version": "3.12.7"
  }
 },
 "nbformat": 4,
 "nbformat_minor": 5
}
